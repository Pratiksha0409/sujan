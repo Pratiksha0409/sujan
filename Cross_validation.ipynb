{
  "cells": [
    {
      "cell_type": "markdown",
      "metadata": {
        "id": "view-in-github",
        "colab_type": "text"
      },
      "source": [
        "<a href=\"https://colab.research.google.com/github/Pratiksha0409/sujan/blob/main/Cross_validation.ipynb\" target=\"_parent\"><img src=\"https://colab.research.google.com/assets/colab-badge.svg\" alt=\"Open In Colab\"/></a>"
      ]
    },
    {
      "cell_type": "markdown",
      "source": [
        "Importing the libraries"
      ],
      "metadata": {
        "id": "endRkO6pDebH"
      }
    },
    {
      "cell_type": "code",
      "source": [
        "import numpy as np\n",
        "import pandas as pd"
      ],
      "metadata": {
        "id": "ECdmQjC1DmHN"
      },
      "execution_count": 1,
      "outputs": []
    },
    {
      "cell_type": "markdown",
      "source": [
        "Import dataset"
      ],
      "metadata": {
        "id": "o4C1OWxbD9ha"
      }
    },
    {
      "cell_type": "code",
      "source": [
        "a = pd.read_csv('Cancer_data.csv')\n",
        "x = a.iloc[:,2:-1]\n",
        "y = a.iloc[:,1]\n",
        "a.head()\n",
        "x.head()\n",
        "y.value_counts()"
      ],
      "metadata": {
        "id": "STCwUqh2EBn3",
        "outputId": "27ba2319-8f82-4805-8c05-e5f154202d10",
        "colab": {
          "base_uri": "https://localhost:8080/"
        }
      },
      "execution_count": 2,
      "outputs": [
        {
          "output_type": "execute_result",
          "data": {
            "text/plain": [
              "B    357\n",
              "M    212\n",
              "Name: diagnosis, dtype: int64"
            ]
          },
          "metadata": {},
          "execution_count": 2
        }
      ]
    },
    {
      "cell_type": "markdown",
      "source": [
        "Hold out validation approach train test split"
      ],
      "metadata": {
        "id": "Z69nTuG4EnFt"
      }
    },
    {
      "cell_type": "code",
      "source": [
        "from pandas.core.algorithms import mode\n",
        "from sklearn.tree import DecisionTreeClassifier\n",
        "from sklearn.model_selection import train_test_split\n",
        "x_train,x_test,y_train,y_test = train_test_split(x,y,test_size = 0.30, random_state = 0)\n",
        "model = DecisionTreeClassifier()\n",
        "model.fit(x_train,y_train)\n",
        "result = model.score(x_test, y_test)\n",
        "print(result)\n",
        "      \n"
      ],
      "metadata": {
        "id": "c0IRDMvgEq6Z",
        "outputId": "081d710d-dfea-4a23-a71d-f81a77ae522f",
        "colab": {
          "base_uri": "https://localhost:8080/"
        }
      },
      "execution_count": 3,
      "outputs": [
        {
          "output_type": "stream",
          "name": "stdout",
          "text": [
            "0.9181286549707602\n"
          ]
        }
      ]
    },
    {
      "cell_type": "code",
      "source": [
        "from sklearn.model_selection import KFold\n",
        "model = DecisionTreeClassifier()\n",
        "KFold_Validation = KFold(10)\n"
      ],
      "metadata": {
        "id": "tDobw527FbbA"
      },
      "execution_count": 4,
      "outputs": []
    },
    {
      "cell_type": "code",
      "source": [
        "from sklearn.model_selection import cross_val_score\n",
        "results = cross_val_score(model,x,y,cv = KFold_Validation)\n",
        "print(results)\n",
        "print(np.mean(results))"
      ],
      "metadata": {
        "colab": {
          "base_uri": "https://localhost:8080/"
        },
        "id": "bDxexQgv_r-g",
        "outputId": "83ed5429-1b19-48e3-9e25-7be4e557552a"
      },
      "execution_count": 5,
      "outputs": [
        {
          "output_type": "stream",
          "name": "stdout",
          "text": [
            "[0.9122807  0.9122807  0.9122807  0.96491228 0.94736842 0.96491228\n",
            " 0.9122807  0.96491228 0.94736842 0.89285714]\n",
            "0.9331453634085213\n"
          ]
        }
      ]
    },
    {
      "cell_type": "markdown",
      "source": [
        "Leave one out cross valadation(LOOCV)"
      ],
      "metadata": {
        "id": "iXbJf9f5KLrI"
      }
    },
    {
      "cell_type": "code",
      "source": [
        "from sklearn.model_selection import LeaveOneOut\n",
        "model = DecisionTreeClassifier()\n",
        "leave_validation = LeaveOneOut()\n",
        "results = cross_val_score(model,x,y,cv = leave_validation)\n",
        "print(np.mean(results))\n"
      ],
      "metadata": {
        "id": "bf0zw5SjFUf9",
        "colab": {
          "base_uri": "https://localhost:8080/"
        },
        "outputId": "73b44760-8a8a-4c02-b4a1-7edcc2fb5ef9"
      },
      "execution_count": 6,
      "outputs": [
        {
          "output_type": "stream",
          "name": "stdout",
          "text": [
            "0.9244288224956063\n"
          ]
        }
      ]
    }
  ],
  "metadata": {
    "colab": {
      "provenance": [],
      "include_colab_link": true
    },
    "kernelspec": {
      "display_name": "Python 3",
      "name": "python3"
    }
  },
  "nbformat": 4,
  "nbformat_minor": 0
}