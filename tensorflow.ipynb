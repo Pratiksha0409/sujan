{
  "nbformat": 4,
  "nbformat_minor": 0,
  "metadata": {
    "colab": {
      "provenance": [],
      "authorship_tag": "ABX9TyOI0poER/aBmBtukJJEiAwT",
      "include_colab_link": true
    },
    "kernelspec": {
      "name": "python3",
      "display_name": "Python 3"
    },
    "language_info": {
      "name": "python"
    }
  },
  "cells": [
    {
      "cell_type": "markdown",
      "metadata": {
        "id": "view-in-github",
        "colab_type": "text"
      },
      "source": [
        "<a href=\"https://colab.research.google.com/github/Pratiksha0409/sujan/blob/main/tensorflow.ipynb\" target=\"_parent\"><img src=\"https://colab.research.google.com/assets/colab-badge.svg\" alt=\"Open In Colab\"/></a>"
      ]
    },
    {
      "cell_type": "markdown",
      "source": [
        "Simple python program using numpy "
      ],
      "metadata": {
        "id": "0AMEuZJ5hHgl"
      }
    },
    {
      "cell_type": "code",
      "execution_count": 1,
      "metadata": {
        "colab": {
          "base_uri": "https://localhost:8080/"
        },
        "id": "SjIzN1Y9grvo",
        "outputId": "ecdfb448-f10c-47a5-c097-76da25b5d6d4"
      },
      "outputs": [
        {
          "output_type": "stream",
          "name": "stdout",
          "text": [
            "[2 4 7] [ 1  4 12]\n"
          ]
        }
      ],
      "source": [
        "import numpy as np\n",
        "x=np.array([1,2,3])\n",
        "y=np.array([1,2,4])\n",
        "x+y\n",
        "a=np.add(x,y)\n",
        "m=np.multiply(x,y)\n",
        "print(a,m)"
      ]
    },
    {
      "cell_type": "markdown",
      "source": [
        "Using tensorflow 1.0"
      ],
      "metadata": {
        "id": "jb-bhwO9h2a9"
      }
    },
    {
      "cell_type": "code",
      "source": [
        "import tensorflow as tf\n",
        "x=tf.constant([1,2,3])\n",
        "y=tf.constant([1,2,4])\n",
        "a=tf.add(x,y)\n",
        "print(a)"
      ],
      "metadata": {
        "colab": {
          "base_uri": "https://localhost:8080/"
        },
        "id": "ZJm2wghMhV4B",
        "outputId": "013ee04d-76eb-4e8c-d89f-0db2ea4ee544"
      },
      "execution_count": 4,
      "outputs": [
        {
          "output_type": "stream",
          "name": "stdout",
          "text": [
            "tf.Tensor([2 4 7], shape=(3,), dtype=int32)\n"
          ]
        }
      ]
    },
    {
      "cell_type": "code",
      "source": [
        "import tensorflow as tf\n",
        "print(tf.__version__)"
      ],
      "metadata": {
        "colab": {
          "base_uri": "https://localhost:8080/"
        },
        "id": "BzKvZ0iqii2k",
        "outputId": "f1d9eeb9-fa77-4f46-97ba-8fb0e6adcfd9"
      },
      "execution_count": 5,
      "outputs": [
        {
          "output_type": "stream",
          "name": "stdout",
          "text": [
            "2.9.2\n"
          ]
        }
      ]
    },
    {
      "cell_type": "code",
      "source": [
        "x=tf.constant([1,2,3])\n",
        "y=tf.constant([1,2,4])\n",
        "a=tf.add(x,y)\n",
        "print(a)"
      ],
      "metadata": {
        "colab": {
          "base_uri": "https://localhost:8080/"
        },
        "id": "DgsRlNtdixf8",
        "outputId": "5df2bcb3-4db7-4e53-9ad2-34aee52db8d7"
      },
      "execution_count": 6,
      "outputs": [
        {
          "output_type": "stream",
          "name": "stdout",
          "text": [
            "tf.Tensor([2 4 7], shape=(3,), dtype=int32)\n"
          ]
        }
      ]
    }
  ]
}